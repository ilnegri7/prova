{
  "nbformat": 4,
  "nbformat_minor": 0,
  "metadata": {
    "colab": {
      "name": "Copy of test_standard_deviation.ipynb",
      "provenance": [],
      "include_colab_link": true
    },
    "kernelspec": {
      "name": "python3",
      "display_name": "Python 3"
    }
  },
  "cells": [
    {
      "cell_type": "markdown",
      "metadata": {
        "id": "view-in-github",
        "colab_type": "text"
      },
      "source": [
        "<a href=\"https://colab.research.google.com/github/ilnegri7/prova/blob/main/Copy_of_test_standard_deviation.ipynb\" target=\"_parent\"><img src=\"https://colab.research.google.com/assets/colab-badge.svg\" alt=\"Open In Colab\"/></a>"
      ]
    },
    {
      "cell_type": "markdown",
      "metadata": {
        "id": "SEYp11GRFM2H"
      },
      "source": [
        "Lucio: Con questo notebook voglio vedere come la funzione scipy.optimize.curve_fit calcola la deviazione standard\n",
        "\n",
        "(per favore fate una copia sul vostro drive così ognuno ha la propria)"
      ]
    },
    {
      "cell_type": "code",
      "metadata": {
        "id": "SuAsWMZAFqwO"
      },
      "source": [
        "import numpy as np\n",
        "import scipy.optimize as sop\n",
        "import statistics"
      ],
      "execution_count": null,
      "outputs": []
    },
    {
      "cell_type": "markdown",
      "metadata": {
        "id": "6qOr0j1vFxsv"
      },
      "source": [
        "Definisco 10 numeri a caso attorno a 1, poi ne prendo i primi \"ndata\""
      ]
    },
    {
      "cell_type": "code",
      "metadata": {
        "id": "LnrQoTFkF5cv",
        "colab": {
          "base_uri": "https://localhost:8080/"
        },
        "outputId": "ce873ae9-72ce-4dc4-9173-fad3462f7d5a"
      },
      "source": [
        "x=[0., 1., 2., 3., 4., 5., 6., 7., 8., 9.]                       # questo è un array fittizio, serve solo per la lista dei parametri di curve_fit\n",
        "y=[1.2, 0.8, 1.2, 0.8, 1.2, 0.8, 1.2, 0.8, 1.2, 0.8]    # questi sono i dati di cui voglio trovare media e deviazione standard\n",
        "\n",
        "ndata=8\n",
        "x1=np.array(x[0:ndata])\n",
        "y1=np.array(y[0:ndata])\n",
        "#print('x1=',x1)\n",
        "print('y1=',y1)"
      ],
      "execution_count": null,
      "outputs": [
        {
          "output_type": "stream",
          "text": [
            "y1= [1.2 0.8 1.2 0.8 1.2 0.8 1.2 0.8]\n"
          ],
          "name": "stdout"
        }
      ]
    },
    {
      "cell_type": "markdown",
      "metadata": {
        "id": "USUR3XLwHQjO"
      },
      "source": [
        "Come prima cosa calcolo media e deviazione standard con le funzioni di statistics"
      ]
    },
    {
      "cell_type": "code",
      "metadata": {
        "id": "zq6lcYGpHY8X",
        "colab": {
          "base_uri": "https://localhost:8080/"
        },
        "outputId": "5de579e2-2de4-49e0-d0c0-426a4be0e2f2"
      },
      "source": [
        "average=statistics.mean(y1)\n",
        "st_dev =statistics.stdev(y1)\n",
        "print('average, standard deviation=',average,st_dev)"
      ],
      "execution_count": null,
      "outputs": [
        {
          "output_type": "stream",
          "text": [
            "average, standard deviation= 1.0 0.21380899352993946\n"
          ],
          "name": "stdout"
        }
      ]
    },
    {
      "cell_type": "markdown",
      "metadata": {
        "id": "WtJH3og_Hz6W"
      },
      "source": [
        "**Lucio:** Ora calcolo la deviazione standard $\\sigma=\\sqrt{\\frac{1}{n-1}\\sum_j (y_j-\\bar{y})^2}$ a mano, per sicurezza: e torna con il valore di prima"
      ]
    },
    {
      "cell_type": "code",
      "metadata": {
        "id": "GzZdeZQGH3jW",
        "colab": {
          "base_uri": "https://localhost:8080/"
        },
        "outputId": "772834cc-6c81-4615-ac85-c2030dcf9b78"
      },
      "source": [
        "variance=0.\n",
        "for i in range(0,ndata):\n",
        "  variance=variance + ((y[i]-average)**2) / (ndata-1)\n",
        "st_dev_check=np.sqrt(variance)\n",
        "print('st_dev_check=', st_dev_check , \"\\t var= \", variance)\n",
        "print('st_dev_media=', st_dev_check/np.sqrt(ndata))"
      ],
      "execution_count": null,
      "outputs": [
        {
          "output_type": "stream",
          "text": [
            "st_dev_check= 0.21380899352993948 \t var=  0.0457142857142857\n",
            "st_dev_media= 0.07559289460184543\n"
          ],
          "name": "stdout"
        }
      ]
    },
    {
      "cell_type": "markdown",
      "metadata": {
        "id": "TF_DSrdOl8m5"
      },
      "source": [
        "Oppure, rimaneggiando la formula per fare sigma e mean \"running\"\n",
        "$\\sigma = \\sqrt{\\frac{N \\sum_j y_j^2 - (\\sum_j y_j)^2 }{N-1}}$"
      ]
    },
    {
      "cell_type": "code",
      "metadata": {
        "colab": {
          "base_uri": "https://localhost:8080/"
        },
        "id": "YcFpHER9ylpk",
        "outputId": "4dac10e5-f834-4718-aae8-fc043625c75a"
      },
      "source": [
        "sum = 0.\n",
        "sum2= 0.\n",
        "for i in range(0,ndata):\n",
        "  sum2 = sum2 + y[i]*y[i]\n",
        "  sum  = sum + y[i]\n",
        "print(\"Sum =\", sum)\n",
        "print(\"Sum2=\", sum2)\n",
        "print(\"Avg =\", sum/ndata)\n",
        "sig = np.sqrt( (ndata*sum2 - sum*sum))/(ndata-1) \n",
        "print(\"Sig =\", sig)"
      ],
      "execution_count": null,
      "outputs": [
        {
          "output_type": "stream",
          "text": [
            "Sum = 8.0\n",
            "Sum2= 8.32\n",
            "Avg = 1.0\n",
            "Sig = 0.22857142857142868\n"
          ],
          "name": "stdout"
        }
      ]
    },
    {
      "cell_type": "markdown",
      "metadata": {
        "id": "3Yz6tgzbIicp"
      },
      "source": [
        "Adesso definisco la funzione di fit, ossia una costante: x è la variabile indipendente, ave è il parametro di fit"
      ]
    },
    {
      "cell_type": "code",
      "metadata": {
        "id": "etE-YxMpIwLx"
      },
      "source": [
        "def fun(x,ave):\n",
        "  return ave"
      ],
      "execution_count": null,
      "outputs": []
    },
    {
      "cell_type": "markdown",
      "metadata": {
        "id": "QOIv6FHQJpBQ"
      },
      "source": [
        "Poi fitto i dati con curve_fit, vedi la documentazione qui https://docs.scipy.org/doc/scipy/reference/generated/scipy.optimize.curve_fit.html\n",
        "\n",
        "La documentazione dice \"*To compute one standard deviation errors on the parameters use perr = np.sqrt(np.diag(pcov))*\"..."
      ]
    },
    {
      "cell_type": "code",
      "metadata": {
        "id": "pf74UqFMJr9V",
        "colab": {
          "base_uri": "https://localhost:8080/"
        },
        "outputId": "30c101bd-7359-45cb-b38d-b83840df3c7e"
      },
      "source": [
        "popt,pcov=sop.curve_fit(fun,x1,y1)\n",
        "#print('popt,pcov=',yopt[0],ycov[0])\n",
        "st_dev_1=np.sqrt(      pcov[0])\n",
        "st_dev_2=np.sqrt(ndata*pcov[0])\n",
        "print('popt,st_dev_1,st_dev_2=',popt[0],st_dev_1[0],st_dev_2[0])"
      ],
      "execution_count": null,
      "outputs": [
        {
          "output_type": "stream",
          "text": [
            "popt,st_dev_1,st_dev_2= 1.0485714285715344 0.07420783505011162 0.19633547687509773\n"
          ],
          "name": "stdout"
        }
      ]
    },
    {
      "cell_type": "code",
      "metadata": {
        "colab": {
          "base_uri": "https://localhost:8080/"
        },
        "id": "XW7U4FRdXvYH",
        "outputId": "1353ddfc-fa2d-47b0-a91d-f523676b4d28"
      },
      "source": [
        "print(pcov)\n",
        "print(np.diag(pcov))"
      ],
      "execution_count": null,
      "outputs": [
        {
          "output_type": "stream",
          "text": [
            "[[0.0055068]]\n",
            "[0.0055068]\n"
          ],
          "name": "stdout"
        }
      ]
    },
    {
      "cell_type": "markdown",
      "metadata": {
        "id": "EIU_uQcbKpyp"
      },
      "source": [
        "... ma ecco il problema: per ritrovare la deviazione standard di prima, non basta calcolare np.sqrt(pcov[0]), bisogna calcolare invece np.sqrt(ndata*pcov[0]). Naturalmente si trova lo stesso con tutti i valori di ndata. C'è qualcosa di inesatto nella documentazione? O sono io che non ho capito?"
      ]
    },
    {
      "cell_type": "code",
      "metadata": {
        "colab": {
          "base_uri": "https://localhost:8080/"
        },
        "id": "xWe-NynUscGE",
        "outputId": "43240138-5e07-45d8-bedd-7c1f8c49b4a6"
      },
      "source": [
        "!pip install lmfit"
      ],
      "execution_count": null,
      "outputs": [
        {
          "output_type": "stream",
          "text": [
            "Collecting lmfit\n",
            "\u001b[?25l  Downloading https://files.pythonhosted.org/packages/d1/2e/9e4cdcebf93603ce57bc7577707ad56ed1282ae306f611e525612b9cfeea/lmfit-1.0.1.tar.gz (258kB)\n",
            "\u001b[K     |████████████████████████████████| 266kB 13.3MB/s \n",
            "\u001b[?25hCollecting asteval>=0.9.16\n",
            "\u001b[?25l  Downloading https://files.pythonhosted.org/packages/4f/d5/ce490afa6f6ab1bb97ffd66a80bfb032d22407fc215d60b21ca174e25c51/asteval-0.9.21.tar.gz (54kB)\n",
            "\u001b[K     |████████████████████████████████| 61kB 8.3MB/s \n",
            "\u001b[?25hRequirement already satisfied: numpy>=1.16 in /usr/local/lib/python3.6/dist-packages (from lmfit) (1.19.5)\n",
            "Requirement already satisfied: scipy>=1.2 in /usr/local/lib/python3.6/dist-packages (from lmfit) (1.4.1)\n",
            "Collecting uncertainties>=3.0.1\n",
            "\u001b[?25l  Downloading https://files.pythonhosted.org/packages/45/41/fc7e7b73b603e7c2c9e040b7aa8caf4a88d74b6faa567601ed82b6f0d8e1/uncertainties-3.1.5-py2.py3-none-any.whl (246kB)\n",
            "\u001b[K     |████████████████████████████████| 256kB 17.9MB/s \n",
            "\u001b[?25hRequirement already satisfied: future in /usr/local/lib/python3.6/dist-packages (from uncertainties>=3.0.1->lmfit) (0.16.0)\n",
            "Building wheels for collected packages: lmfit, asteval\n",
            "  Building wheel for lmfit (setup.py) ... \u001b[?25l\u001b[?25hdone\n",
            "  Created wheel for lmfit: filename=lmfit-1.0.1-cp36-none-any.whl size=81989 sha256=89a8bdc0d0c3964d79ac2b8ab5de9a5e90cfc4bdef58d5eae71d2fd09900f7bc\n",
            "  Stored in directory: /root/.cache/pip/wheels/ef/22/8d/6cd9c0af36f501cfb248673b05dad5d2c27504951d55519acb\n",
            "  Building wheel for asteval (setup.py) ... \u001b[?25l\u001b[?25hdone\n",
            "  Created wheel for asteval: filename=asteval-0.9.21-cp36-none-any.whl size=17286 sha256=3656d28aea9be30815d33f05f403042e77133489df08f87b5393461094907310\n",
            "  Stored in directory: /root/.cache/pip/wheels/53/9d/3b/da1ff15feb7d97bb195837f4e78f971c748a945bd4720003ce\n",
            "Successfully built lmfit asteval\n",
            "Installing collected packages: asteval, uncertainties, lmfit\n",
            "Successfully installed asteval-0.9.21 lmfit-1.0.1 uncertainties-3.1.5\n"
          ],
          "name": "stdout"
        }
      ]
    },
    {
      "cell_type": "code",
      "metadata": {
        "id": "m4KEdeDPskZP"
      },
      "source": [
        "from lmfit import Minimizer, Parameters, report_fit\n",
        "import numpy as np\n",
        "params = Parameters()\n",
        "params.add('m', value=1)"
      ],
      "execution_count": null,
      "outputs": []
    },
    {
      "cell_type": "code",
      "metadata": {
        "id": "wj1s4eU8spEe"
      },
      "source": [
        "def fcn2min(params, t, data):\n",
        "  m = params['m']\n",
        "  model = m\n",
        "  return model - data"
      ],
      "execution_count": null,
      "outputs": []
    },
    {
      "cell_type": "code",
      "metadata": {
        "colab": {
          "base_uri": "https://localhost:8080/"
        },
        "id": "Av6HilRKs6DS",
        "outputId": "f10631f1-e729-4dbc-bdc5-60fab7960bdd"
      },
      "source": [
        "minner = Minimizer(fcn2min, params, fcn_args=(x1, y1))\n",
        "result = minner.minimize()\n",
        "final = x1 + result.residual\n",
        "report_fit(result)"
      ],
      "execution_count": null,
      "outputs": [
        {
          "output_type": "stream",
          "text": [
            "[[Fit Statistics]]\n",
            "    # fitting method   = leastsq\n",
            "    # function evals   = 2\n",
            "    # data points      = 8\n",
            "    # variables        = 1\n",
            "    chi-square         = 0.32000000\n",
            "    reduced chi-square = 0.04571429\n",
            "    Akaike info crit   = -23.7510066\n",
            "    Bayesian info crit = -23.6715651\n",
            "[[Variables]]\n",
            "    m:  1.00000000 +/- 0.07559289 (7.56%) (init = 1)\n"
          ],
          "name": "stdout"
        }
      ]
    },
    {
      "cell_type": "code",
      "metadata": {
        "colab": {
          "base_uri": "https://localhost:8080/"
        },
        "id": "537Z04w7tOHs",
        "outputId": "daf80336-2e2e-40cf-c26f-c4f06fc59d4b"
      },
      "source": [
        "cov=result.covar\n",
        "st_dev_2=np.sqrt(ndata*cov[0])\n",
        "print(st_dev)"
      ],
      "execution_count": null,
      "outputs": [
        {
          "output_type": "stream",
          "text": [
            "0.21380899352993946\n"
          ],
          "name": "stdout"
        }
      ]
    }
  ]
}